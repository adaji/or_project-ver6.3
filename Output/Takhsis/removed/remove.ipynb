{
 "cells": [
  {
   "cell_type": "code",
   "execution_count": 3,
   "metadata": {},
   "outputs": [],
   "source": [
    "import numpy as np\n",
    "import pandas as pd\n",
    "import re\n"
   ]
  },
  {
   "cell_type": "code",
   "execution_count": 4,
   "metadata": {},
   "outputs": [
    {
     "data": {
      "text/html": [
       "<div>\n",
       "<style scoped>\n",
       "    .dataframe tbody tr th:only-of-type {\n",
       "        vertical-align: middle;\n",
       "    }\n",
       "\n",
       "    .dataframe tbody tr th {\n",
       "        vertical-align: top;\n",
       "    }\n",
       "\n",
       "    .dataframe thead th {\n",
       "        text-align: right;\n",
       "    }\n",
       "</style>\n",
       "<table border=\"1\" class=\"dataframe\">\n",
       "  <thead>\n",
       "    <tr style=\"text-align: right;\">\n",
       "      <th></th>\n",
       "      <th>d</th>\n",
       "      <th>w</th>\n",
       "      <th>p</th>\n",
       "      <th>i</th>\n",
       "      <th>sol</th>\n",
       "    </tr>\n",
       "  </thead>\n",
       "  <tbody>\n",
       "    <tr>\n",
       "      <th>0</th>\n",
       "      <td>0</td>\n",
       "      <td>0</td>\n",
       "      <td>0</td>\n",
       "      <td>0</td>\n",
       "      <td>0</td>\n",
       "    </tr>\n",
       "    <tr>\n",
       "      <th>1</th>\n",
       "      <td>0</td>\n",
       "      <td>0</td>\n",
       "      <td>0</td>\n",
       "      <td>1</td>\n",
       "      <td>0</td>\n",
       "    </tr>\n",
       "    <tr>\n",
       "      <th>2</th>\n",
       "      <td>0</td>\n",
       "      <td>0</td>\n",
       "      <td>0</td>\n",
       "      <td>2</td>\n",
       "      <td>0</td>\n",
       "    </tr>\n",
       "    <tr>\n",
       "      <th>3</th>\n",
       "      <td>0</td>\n",
       "      <td>0</td>\n",
       "      <td>0</td>\n",
       "      <td>3</td>\n",
       "      <td>0</td>\n",
       "    </tr>\n",
       "    <tr>\n",
       "      <th>4</th>\n",
       "      <td>0</td>\n",
       "      <td>0</td>\n",
       "      <td>0</td>\n",
       "      <td>4</td>\n",
       "      <td>0</td>\n",
       "    </tr>\n",
       "    <tr>\n",
       "      <th>...</th>\n",
       "      <td>...</td>\n",
       "      <td>...</td>\n",
       "      <td>...</td>\n",
       "      <td>...</td>\n",
       "      <td>...</td>\n",
       "    </tr>\n",
       "    <tr>\n",
       "      <th>33751</th>\n",
       "      <td>43</td>\n",
       "      <td>57</td>\n",
       "      <td>0</td>\n",
       "      <td>5</td>\n",
       "      <td>0</td>\n",
       "    </tr>\n",
       "    <tr>\n",
       "      <th>33752</th>\n",
       "      <td>43</td>\n",
       "      <td>57</td>\n",
       "      <td>1</td>\n",
       "      <td>0</td>\n",
       "      <td>0</td>\n",
       "    </tr>\n",
       "    <tr>\n",
       "      <th>33753</th>\n",
       "      <td>43</td>\n",
       "      <td>57</td>\n",
       "      <td>2</td>\n",
       "      <td>0</td>\n",
       "      <td>0</td>\n",
       "    </tr>\n",
       "    <tr>\n",
       "      <th>33754</th>\n",
       "      <td>43</td>\n",
       "      <td>57</td>\n",
       "      <td>2</td>\n",
       "      <td>1</td>\n",
       "      <td>0</td>\n",
       "    </tr>\n",
       "    <tr>\n",
       "      <th>33755</th>\n",
       "      <td>43</td>\n",
       "      <td>57</td>\n",
       "      <td>2</td>\n",
       "      <td>2</td>\n",
       "      <td>0</td>\n",
       "    </tr>\n",
       "  </tbody>\n",
       "</table>\n",
       "<p>33756 rows × 5 columns</p>\n",
       "</div>"
      ],
      "text/plain": [
       "        d   w  p  i  sol\n",
       "0       0   0  0  0    0\n",
       "1       0   0  0  1    0\n",
       "2       0   0  0  2    0\n",
       "3       0   0  0  3    0\n",
       "4       0   0  0  4    0\n",
       "...    ..  .. .. ..  ...\n",
       "33751  43  57  0  5    0\n",
       "33752  43  57  1  0    0\n",
       "33753  43  57  2  0    0\n",
       "33754  43  57  2  1    0\n",
       "33755  43  57  2  2    0\n",
       "\n",
       "[33756 rows x 5 columns]"
      ]
     },
     "execution_count": 4,
     "metadata": {},
     "output_type": "execute_result"
    }
   ],
   "source": [
    "df = pd.read_csv(\"./allocate1_sol.csv\")\n",
    "\n",
    "\n",
    "def f(s):\n",
    "    res = re.findall(r'\\((\\d+), (\\d+), (\\d+), (\\d+)', s)\n",
    "    return tuple([int(i) for i in res[0]])\n",
    "\n",
    "\n",
    "df['Unnamed: 0'] = df['Unnamed: 0'].apply(f)\n",
    "df.rename(columns={'Unnamed: 0': 0, '0': 'sol'}, inplace=True)\n",
    "\n",
    "multi = pd.MultiIndex.from_tuples(df[0])\n",
    "df.set_index(multi, inplace=True)\n",
    "df.drop(columns=0, inplace=True)\n",
    "df.reset_index(inplace=True)\n",
    "df.rename(columns={'level_0': 'd', 'level_1': 'w', 'level_2': 'p', 'level_3': 'i'}, inplace=True)\n",
    "df['sol'] = df['sol'].round(0).astype(int)\n",
    "\n",
    "df\n"
   ]
  },
  {
   "cell_type": "code",
   "execution_count": 18,
   "metadata": {},
   "outputs": [],
   "source": [
    "num_items_per_pack = [[8, 1, 3], [9, 1, 3], [8, 2, 3], [9, 1, 3], [9, 2, 3], [9, 1, 3], [10, 2, 4], [9, 1, 4], [10, 2, 4], [9, 2, 4], [9, 2, 4], [10, 1, 4], [10, 2, 4], [11, 2, 4], [9, 2, 3], [10, 2, 4], [9, 1, 4], [9, 2, 4], [9, 2, 2], [7, 2, 3], [7, 2, 3], [\n",
    "    8, 1, 3], [9, 2, 3], [7, 2, 3], [8, 2, 3], [7, 1, 2], [7, 2, 2], [8, 1, 2], [8, 2, 2], [7, 2, 2], [8, 2, 2], [6, 2, 3], [7, 2, 3], [8, 2, 3], [7, 2, 3], [9, 2, 4], [9, 2, 4], [6, 2, 3], [8, 2, 3], [8, 2, 4], [8, 2, 4], [8, 2, 4], [7, 2, 3], [6, 1, 3]]\n",
    "\n",
    "items_weight_raw= [192, 191, 190, 189, 188, 187, 186, 185, 184, 183, 182, 181, 180, 179, 178, 177, 176, 175, 174, 173, 172, 171, 170, 169, 168, 144, 143, 142,\n",
    "    141, 140, 139, 138, 137, 136, 135, 134, 133, 132, 131, 130, 129, 128, 127, 126, 96, 95, 94, 93, 92, 91, 90, 89, 88, 87, 86, 85, 84, 1]\n",
    "\n",
    "items_weight_index = [[0, 1, 2, 3, 4, 5, 6, 7, 8, 9, 10, 11, 12, 13, 14, 15, 16, 17, 18, 19, 20, 21, 22, 23, 24], [\n",
    "    25, 26, 27, 28, 29, 30, 31, 32, 33, 34, 35, 36, 37, 38, 39, 40, 41, 42, 43], [44, 45, 46, 47, 48, 49, 50, 51, 52, 53, 54, 55, 56], [57]]\n",
    "\n",
    "target_items_perc = [0.6, 0.35, 0.05, 0]\n",
    "tot_pass=87552\n",
    "target_pass_g = [292, 227, 49,0]\n",
    "\n",
    "num_packs=3\n"
   ]
  },
  {
   "cell_type": "code",
   "execution_count": 13,
   "metadata": {},
   "outputs": [
    {
     "name": "stdout",
     "output_type": "stream",
     "text": [
      "g= 0\n",
      "SUM is 155\n",
      "ERR is -137\n",
      "g= 1\n",
      "SUM is 370\n",
      "ERR is 143\n",
      "g= 2\n",
      "SUM is 89\n",
      "ERR is 40\n",
      "g= 3\n",
      "SUM is 30\n",
      "ERR is 30\n"
     ]
    }
   ],
   "source": [
    "for g in range(4):\n",
    "    s=0\n",
    "    for d in range(44):\n",
    "        for w in items_weight_index[g]:\n",
    "            for p in [0]:#range(num_packs):\n",
    "                for i in range(num_items_per_pack[d][p]):\n",
    "                    s+= int(df[(df['d']==d)&(df['w']==w)&(df['p']==p)&(df['i']==i)]['sol'])\n",
    "    print(\"g= %i\" % (g))\n",
    "    print(\"SUM is %i\" % (s))\n",
    "    print(\"ERR is %i\" % (s-target_pass_g[g]))\n",
    "\n"
   ]
  },
  {
   "cell_type": "code",
   "execution_count": 12,
   "metadata": {},
   "outputs": [],
   "source": [
    "\n",
    "\n",
    "with open(\"./model-6.sol\") as f:\n",
    "        content = f.read()\n",
    "        res = re.findall(r'\\((\\d+)_(\\d+)_(\\d+)_(\\d+)\\) (\\d+)', content)\n",
    "        \n",
    "        out= pd.DataFrame(data=res)\n",
    "        \n"
   ]
  },
  {
   "cell_type": "code",
   "execution_count": 16,
   "metadata": {},
   "outputs": [],
   "source": [
    "out.rename(columns={0: 'd', 1: 'w', 2: 'p', 3: 'i', 4:'sol'}, inplace=True)\n"
   ]
  },
  {
   "cell_type": "code",
   "execution_count": 25,
   "metadata": {},
   "outputs": [],
   "source": [
    "out=out.astype(int)"
   ]
  },
  {
   "cell_type": "code",
   "execution_count": 28,
   "metadata": {},
   "outputs": [
    {
     "name": "stdout",
     "output_type": "stream",
     "text": [
      "g= 0\n",
      "SUM is 232\n",
      "ERR is -60\n",
      "g= 1\n",
      "SUM is 220\n",
      "ERR is -7\n",
      "g= 2\n",
      "SUM is 160\n",
      "ERR is 111\n",
      "g= 3\n",
      "SUM is 32\n",
      "ERR is 32\n"
     ]
    }
   ],
   "source": [
    "for g in range(4):\n",
    "    s = 0\n",
    "    for d in range(44):\n",
    "        for w in items_weight_index[g]:\n",
    "            for p in [1]:  # range(num_packs):\n",
    "                for i in range(num_items_per_pack[d][p]):\n",
    "                    s+= int(out[(out['d'] == d) & (out['w'] == w) & (out['p'] == p) & (out['i'] == i)]['sol'])\n",
    "    print(\"g= %i\" % (g))\n",
    "    print(\"SUM is %i\" % (s))\n",
    "    print(\"ERR is %i\" % (s-target_pass_g[g]))\n"
   ]
  },
  {
   "cell_type": "code",
   "execution_count": null,
   "metadata": {},
   "outputs": [],
   "source": []
  }
 ],
 "metadata": {
  "kernelspec": {
   "display_name": "'Python Interactive'",
   "language": "python",
   "name": "fc258652-8aef-45ac-ac58-414d5cf75fca"
  },
  "language_info": {
   "codemirror_mode": {
    "name": "ipython",
    "version": 3
   },
   "file_extension": ".py",
   "mimetype": "text/x-python",
   "name": "python",
   "nbconvert_exporter": "python",
   "pygments_lexer": "ipython3",
   "version": "3.9.7"
  },
  "orig_nbformat": 4
 },
 "nbformat": 4,
 "nbformat_minor": 2
}
